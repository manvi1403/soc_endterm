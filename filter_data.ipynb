{
 "cells": [
  {
   "cell_type": "code",
   "execution_count": 1,
   "id": "0131a80f-c22e-40e8-ae36-d5cf67b8949c",
   "metadata": {},
   "outputs": [],
   "source": [
    "import numpy as np\n",
    "import pandas as pd\n",
    "import matplotlib.pyplot as plt\n",
    "from sklearn.feature_extraction.text import CountVectorizer\n",
    "from sklearn.metrics.pairwise import cosine_similarity\n",
    "from wordcloud import WordCloud\n",
    "import re\n",
    "import nltk\n",
    "from nltk.corpus import stopwords\n",
    "from nltk.tokenize import word_tokenize\n",
    "from sklearn.metrics.pairwise import linear_kernel"
   ]
  },
  {
   "cell_type": "code",
   "execution_count": 2,
   "id": "0f9acfe1-0f04-4595-8625-cc55ed25d5b0",
   "metadata": {},
   "outputs": [],
   "source": [
    "df=pd.read_csv('master_dataset.csv')\n",
    "df=df[:5000]"
   ]
  },
  {
   "cell_type": "code",
   "execution_count": 3,
   "id": "a6167dc8-87e8-44c9-9182-8181c9e31e59",
   "metadata": {},
   "outputs": [],
   "source": [
    "\n",
    "def get_director(x):\n",
    "    \"\"\"\n",
    "    Extract the Name of the Director for a movie if it is present inside the job\n",
    "    \n",
    "    \"\"\"\n",
    "    for i in x:\n",
    "        if i['job'] == 'Director':\n",
    "            return i['name']\n",
    "    return np.nan"
   ]
  },
  {
   "cell_type": "code",
   "execution_count": 4,
   "id": "96509b29-e1b8-4cc6-b88b-d6427863b321",
   "metadata": {},
   "outputs": [
    {
     "data": {
      "text/html": [
       "<div>\n",
       "<style scoped>\n",
       "    .dataframe tbody tr th:only-of-type {\n",
       "        vertical-align: middle;\n",
       "    }\n",
       "\n",
       "    .dataframe tbody tr th {\n",
       "        vertical-align: top;\n",
       "    }\n",
       "\n",
       "    .dataframe thead th {\n",
       "        text-align: right;\n",
       "    }\n",
       "</style>\n",
       "<table border=\"1\" class=\"dataframe\">\n",
       "  <thead>\n",
       "    <tr style=\"text-align: right;\">\n",
       "      <th></th>\n",
       "      <th>genres</th>\n",
       "      <th>keywords</th>\n",
       "      <th>overview</th>\n",
       "      <th>title</th>\n",
       "      <th>popularity</th>\n",
       "      <th>release_date</th>\n",
       "      <th>crew</th>\n",
       "    </tr>\n",
       "  </thead>\n",
       "  <tbody>\n",
       "    <tr>\n",
       "      <th>0</th>\n",
       "      <td>[{'id': 16, 'name': 'Animation'}, {'id': 35, '...</td>\n",
       "      <td>[{'id': 931, 'name': 'jealousy'}, {'id': 4290,...</td>\n",
       "      <td>Led by Woody, Andy's toys live happily in his ...</td>\n",
       "      <td>Toy Story</td>\n",
       "      <td>21.946943</td>\n",
       "      <td>1995-10-30</td>\n",
       "      <td>[{'credit_id': '52fe4284c3a36847f8024f49', 'de...</td>\n",
       "    </tr>\n",
       "    <tr>\n",
       "      <th>1</th>\n",
       "      <td>[{'id': 12, 'name': 'Adventure'}, {'id': 14, '...</td>\n",
       "      <td>[{'id': 10090, 'name': 'board game'}, {'id': 1...</td>\n",
       "      <td>When siblings Judy and Peter discover an encha...</td>\n",
       "      <td>Jumanji</td>\n",
       "      <td>17.015539</td>\n",
       "      <td>1995-12-15</td>\n",
       "      <td>[{'credit_id': '52fe44bfc3a36847f80a7cd1', 'de...</td>\n",
       "    </tr>\n",
       "  </tbody>\n",
       "</table>\n",
       "</div>"
      ],
      "text/plain": [
       "                                              genres  \\\n",
       "0  [{'id': 16, 'name': 'Animation'}, {'id': 35, '...   \n",
       "1  [{'id': 12, 'name': 'Adventure'}, {'id': 14, '...   \n",
       "\n",
       "                                            keywords  \\\n",
       "0  [{'id': 931, 'name': 'jealousy'}, {'id': 4290,...   \n",
       "1  [{'id': 10090, 'name': 'board game'}, {'id': 1...   \n",
       "\n",
       "                                            overview      title  popularity  \\\n",
       "0  Led by Woody, Andy's toys live happily in his ...  Toy Story   21.946943   \n",
       "1  When siblings Judy and Peter discover an encha...    Jumanji   17.015539   \n",
       "\n",
       "  release_date                                               crew  \n",
       "0   1995-10-30  [{'credit_id': '52fe4284c3a36847f8024f49', 'de...  \n",
       "1   1995-12-15  [{'credit_id': '52fe44bfc3a36847f80a7cd1', 'de...  "
      ]
     },
     "execution_count": 4,
     "metadata": {},
     "output_type": "execute_result"
    }
   ],
   "source": [
    "required_columns=[\"genres\", \"keywords\", \"overview\", \"title\", \"popularity\",\"release_date\", \"crew\"]\n",
    "df=df[required_columns]\n",
    "df.head(2)"
   ]
  },
  {
   "cell_type": "code",
   "execution_count": 5,
   "id": "acc4c5c8-59c5-4518-8635-f38bd510f689",
   "metadata": {},
   "outputs": [
    {
     "data": {
      "text/html": [
       "<div>\n",
       "<style scoped>\n",
       "    .dataframe tbody tr th:only-of-type {\n",
       "        vertical-align: middle;\n",
       "    }\n",
       "\n",
       "    .dataframe tbody tr th {\n",
       "        vertical-align: top;\n",
       "    }\n",
       "\n",
       "    .dataframe thead th {\n",
       "        text-align: right;\n",
       "    }\n",
       "</style>\n",
       "<table border=\"1\" class=\"dataframe\">\n",
       "  <thead>\n",
       "    <tr style=\"text-align: right;\">\n",
       "      <th></th>\n",
       "      <th>genres</th>\n",
       "      <th>keywords</th>\n",
       "      <th>overview</th>\n",
       "      <th>title</th>\n",
       "      <th>popularity</th>\n",
       "      <th>release_date</th>\n",
       "      <th>crew</th>\n",
       "      <th>director</th>\n",
       "    </tr>\n",
       "  </thead>\n",
       "  <tbody>\n",
       "    <tr>\n",
       "      <th>0</th>\n",
       "      <td>Animation, Comedy, Family</td>\n",
       "      <td>jealousi, toy, boy, friendship, friend, rivalr...</td>\n",
       "      <td>Led by Woody, Andy's toys live happily in his ...</td>\n",
       "      <td>Toy Story</td>\n",
       "      <td>21.946943</td>\n",
       "      <td>1995-10-30</td>\n",
       "      <td>[{'credit_id': '52fe4284c3a36847f8024f49', 'de...</td>\n",
       "      <td>John Lasseter</td>\n",
       "    </tr>\n",
       "    <tr>\n",
       "      <th>1</th>\n",
       "      <td>Adventure, Fantasy, Family</td>\n",
       "      <td>boardgam, disappear, basedonchildren'sbook, ne...</td>\n",
       "      <td>When siblings Judy and Peter discover an encha...</td>\n",
       "      <td>Jumanji</td>\n",
       "      <td>17.015539</td>\n",
       "      <td>1995-12-15</td>\n",
       "      <td>[{'credit_id': '52fe44bfc3a36847f80a7cd1', 'de...</td>\n",
       "      <td>Joe Johnston</td>\n",
       "    </tr>\n",
       "  </tbody>\n",
       "</table>\n",
       "</div>"
      ],
      "text/plain": [
       "                       genres  \\\n",
       "0   Animation, Comedy, Family   \n",
       "1  Adventure, Fantasy, Family   \n",
       "\n",
       "                                            keywords  \\\n",
       "0  jealousi, toy, boy, friendship, friend, rivalr...   \n",
       "1  boardgam, disappear, basedonchildren'sbook, ne...   \n",
       "\n",
       "                                            overview      title  popularity  \\\n",
       "0  Led by Woody, Andy's toys live happily in his ...  Toy Story   21.946943   \n",
       "1  When siblings Judy and Peter discover an encha...    Jumanji   17.015539   \n",
       "\n",
       "  release_date                                               crew  \\\n",
       "0   1995-10-30  [{'credit_id': '52fe4284c3a36847f8024f49', 'de...   \n",
       "1   1995-12-15  [{'credit_id': '52fe44bfc3a36847f80a7cd1', 'de...   \n",
       "\n",
       "        director  \n",
       "0  John Lasseter  \n",
       "1   Joe Johnston  "
      ]
     },
     "execution_count": 5,
     "metadata": {},
     "output_type": "execute_result"
    }
   ],
   "source": [
    "import ast\n",
    "df['crew']      = df['crew'].apply(ast.literal_eval)\n",
    "df['director']  = df['crew'].apply(get_director)\n",
    "df['keywords'] = df['keywords'].apply(ast.literal_eval)\n",
    "df['keywords'] = df['keywords'].apply(lambda lst: [d['name'] for d in lst if 'name' in d])\n",
    "from nltk.stem.snowball import SnowballStemmer\n",
    "\n",
    "# Creating a stemmer object for English\n",
    "stemmer = SnowballStemmer('english')\n",
    "\n",
    "# Stem each keyword\n",
    "df['keywords'] = df['keywords'].apply(\n",
    "    lambda x: [stemmer.stem(i) for i in x if len(i) > 1]\n",
    ")\n",
    "\n",
    "# Convert to lowercase and remove spaces\n",
    "df['keywords'] = df['keywords'].apply(\n",
    "    lambda x: [i.replace(\" \", \"\").lower() for i in x]\n",
    ")\n",
    "\n",
    "df['genres'] = df['genres'].apply(ast.literal_eval)\n",
    "df['genres'] = df['genres'].apply(lambda lst: [d['name'] for d in lst if 'name' in d])\n",
    "df['keywords'] = df['keywords'].apply(lambda x: ', '.join(x))\n",
    "df['genres'] = df['genres'].apply(lambda x: ', '.join(x))\n",
    "df.head(2)"
   ]
  },
  {
   "cell_type": "code",
   "execution_count": 6,
   "id": "5f83a88b-08f2-49b4-8dcc-7b1b2fb46828",
   "metadata": {},
   "outputs": [
    {
     "name": "stdout",
     "output_type": "stream",
     "text": [
      "<class 'pandas.core.frame.DataFrame'>\n",
      "RangeIndex: 4949 entries, 0 to 4948\n",
      "Data columns (total 8 columns):\n",
      " #   Column        Non-Null Count  Dtype  \n",
      "---  ------        --------------  -----  \n",
      " 0   genres        4949 non-null   object \n",
      " 1   keywords      4949 non-null   object \n",
      " 2   overview      4949 non-null   object \n",
      " 3   title         4949 non-null   object \n",
      " 4   popularity    4949 non-null   float64\n",
      " 5   release_date  4949 non-null   object \n",
      " 6   crew          4949 non-null   object \n",
      " 7   director      4949 non-null   object \n",
      "dtypes: float64(1), object(7)\n",
      "memory usage: 309.4+ KB\n"
     ]
    }
   ],
   "source": [
    "df=df.dropna().reset_index(drop=True)\n",
    "df.info()"
   ]
  },
  {
   "cell_type": "code",
   "execution_count": 7,
   "id": "006f38ed-518c-4b2f-89ef-590ad5e30455",
   "metadata": {},
   "outputs": [
    {
     "data": {
      "text/html": [
       "<div>\n",
       "<style scoped>\n",
       "    .dataframe tbody tr th:only-of-type {\n",
       "        vertical-align: middle;\n",
       "    }\n",
       "\n",
       "    .dataframe tbody tr th {\n",
       "        vertical-align: top;\n",
       "    }\n",
       "\n",
       "    .dataframe thead th {\n",
       "        text-align: right;\n",
       "    }\n",
       "</style>\n",
       "<table border=\"1\" class=\"dataframe\">\n",
       "  <thead>\n",
       "    <tr style=\"text-align: right;\">\n",
       "      <th></th>\n",
       "      <th>genres</th>\n",
       "      <th>keywords</th>\n",
       "      <th>overview</th>\n",
       "      <th>title</th>\n",
       "      <th>popularity</th>\n",
       "      <th>release_date</th>\n",
       "      <th>crew</th>\n",
       "      <th>director</th>\n",
       "      <th>combined</th>\n",
       "    </tr>\n",
       "  </thead>\n",
       "  <tbody>\n",
       "    <tr>\n",
       "      <th>0</th>\n",
       "      <td>Animation, Comedy, Family</td>\n",
       "      <td>jealousi, toy, boy, friendship, friend, rivalr...</td>\n",
       "      <td>Led by Woody, Andy's toys live happily in his ...</td>\n",
       "      <td>Toy Story</td>\n",
       "      <td>21.946943</td>\n",
       "      <td>1995-10-30</td>\n",
       "      <td>[{'credit_id': '52fe4284c3a36847f8024f49', 'de...</td>\n",
       "      <td>John Lasseter</td>\n",
       "      <td>Animation, Comedy, Family jealousi, toy, boy, ...</td>\n",
       "    </tr>\n",
       "    <tr>\n",
       "      <th>1</th>\n",
       "      <td>Adventure, Fantasy, Family</td>\n",
       "      <td>boardgam, disappear, basedonchildren'sbook, ne...</td>\n",
       "      <td>When siblings Judy and Peter discover an encha...</td>\n",
       "      <td>Jumanji</td>\n",
       "      <td>17.015539</td>\n",
       "      <td>1995-12-15</td>\n",
       "      <td>[{'credit_id': '52fe44bfc3a36847f80a7cd1', 'de...</td>\n",
       "      <td>Joe Johnston</td>\n",
       "      <td>Adventure, Fantasy, Family boardgam, disappear...</td>\n",
       "    </tr>\n",
       "  </tbody>\n",
       "</table>\n",
       "</div>"
      ],
      "text/plain": [
       "                       genres  \\\n",
       "0   Animation, Comedy, Family   \n",
       "1  Adventure, Fantasy, Family   \n",
       "\n",
       "                                            keywords  \\\n",
       "0  jealousi, toy, boy, friendship, friend, rivalr...   \n",
       "1  boardgam, disappear, basedonchildren'sbook, ne...   \n",
       "\n",
       "                                            overview      title  popularity  \\\n",
       "0  Led by Woody, Andy's toys live happily in his ...  Toy Story   21.946943   \n",
       "1  When siblings Judy and Peter discover an encha...    Jumanji   17.015539   \n",
       "\n",
       "  release_date                                               crew  \\\n",
       "0   1995-10-30  [{'credit_id': '52fe4284c3a36847f8024f49', 'de...   \n",
       "1   1995-12-15  [{'credit_id': '52fe44bfc3a36847f80a7cd1', 'de...   \n",
       "\n",
       "        director                                           combined  \n",
       "0  John Lasseter  Animation, Comedy, Family jealousi, toy, boy, ...  \n",
       "1   Joe Johnston  Adventure, Fantasy, Family boardgam, disappear...  "
      ]
     },
     "execution_count": 7,
     "metadata": {},
     "output_type": "execute_result"
    }
   ],
   "source": [
    "df['combined']=df['genres']+' '+df['keywords']+' '+df['overview']\n",
    "df.to_csv('temp.csv')\n",
    "df.head(2)"
   ]
  },
  {
   "cell_type": "code",
   "execution_count": 8,
   "id": "1c0eb68b-6c22-4c54-bec4-06c231dc93dc",
   "metadata": {},
   "outputs": [
    {
     "data": {
      "text/html": [
       "<div>\n",
       "<style scoped>\n",
       "    .dataframe tbody tr th:only-of-type {\n",
       "        vertical-align: middle;\n",
       "    }\n",
       "\n",
       "    .dataframe tbody tr th {\n",
       "        vertical-align: top;\n",
       "    }\n",
       "\n",
       "    .dataframe thead th {\n",
       "        text-align: right;\n",
       "    }\n",
       "</style>\n",
       "<table border=\"1\" class=\"dataframe\">\n",
       "  <thead>\n",
       "    <tr style=\"text-align: right;\">\n",
       "      <th></th>\n",
       "      <th>title</th>\n",
       "      <th>combined</th>\n",
       "      <th>popularity</th>\n",
       "      <th>release_date</th>\n",
       "      <th>director</th>\n",
       "    </tr>\n",
       "  </thead>\n",
       "  <tbody>\n",
       "    <tr>\n",
       "      <th>0</th>\n",
       "      <td>Toy Story</td>\n",
       "      <td>Animation, Comedy, Family jealousi, toy, boy, ...</td>\n",
       "      <td>21.946943</td>\n",
       "      <td>1995-10-30</td>\n",
       "      <td>John Lasseter</td>\n",
       "    </tr>\n",
       "    <tr>\n",
       "      <th>1</th>\n",
       "      <td>Jumanji</td>\n",
       "      <td>Adventure, Fantasy, Family boardgam, disappear...</td>\n",
       "      <td>17.015539</td>\n",
       "      <td>1995-12-15</td>\n",
       "      <td>Joe Johnston</td>\n",
       "    </tr>\n",
       "  </tbody>\n",
       "</table>\n",
       "</div>"
      ],
      "text/plain": [
       "       title                                           combined  popularity  \\\n",
       "0  Toy Story  Animation, Comedy, Family jealousi, toy, boy, ...   21.946943   \n",
       "1    Jumanji  Adventure, Fantasy, Family boardgam, disappear...   17.015539   \n",
       "\n",
       "  release_date       director  \n",
       "0   1995-10-30  John Lasseter  \n",
       "1   1995-12-15   Joe Johnston  "
      ]
     },
     "execution_count": 8,
     "metadata": {},
     "output_type": "execute_result"
    }
   ],
   "source": [
    "data=df[['title','combined','popularity','release_date','director']]\n",
    "data.head(2)"
   ]
  },
  {
   "cell_type": "code",
   "execution_count": 9,
   "id": "5fa68e22-8a1f-4d5d-91df-1bd9f373c5c3",
   "metadata": {},
   "outputs": [
    {
     "name": "stderr",
     "output_type": "stream",
     "text": [
      "[nltk_data] Downloading package punkt to C:\\nltk_data...\n",
      "[nltk_data]   Package punkt is already up-to-date!\n",
      "[nltk_data] Downloading package punkt_tab to C:\\nltk_data...\n",
      "[nltk_data]   Package punkt_tab is already up-to-date!\n",
      "[nltk_data] Downloading package stopwords to C:\\nltk_data...\n",
      "[nltk_data]   Package stopwords is already up-to-date!\n"
     ]
    },
    {
     "data": {
      "text/plain": [
       "True"
      ]
     },
     "execution_count": 9,
     "metadata": {},
     "output_type": "execute_result"
    }
   ],
   "source": [
    "nltk.download('punkt')\n",
    "nltk.download('punkt_tab')\n",
    "nltk.download('stopwords')"
   ]
  },
  {
   "cell_type": "code",
   "execution_count": 10,
   "id": "4d48b6aa-e363-4d87-8c10-06c7a4366b80",
   "metadata": {},
   "outputs": [],
   "source": [
    "stop_words=set(stopwords.words('english'))"
   ]
  },
  {
   "cell_type": "code",
   "execution_count": 11,
   "id": "6e1526ab-8d8e-4cee-a2bd-aa253581f989",
   "metadata": {},
   "outputs": [],
   "source": [
    "def preprocess_text(text):\n",
    "    text=re.sub(r\"[^a-zA-Z\\s]\",\"\",text)\n",
    "    text=text.lower()\n",
    "    tokens=word_tokenize(text)\n",
    "    token=[word for word in tokens if word not in stop_words]\n",
    "    return \" \".join(token)"
   ]
  },
  {
   "cell_type": "code",
   "execution_count": 12,
   "id": "f2997a01-1344-4136-bdd5-8fedfd2bea32",
   "metadata": {},
   "outputs": [
    {
     "name": "stderr",
     "output_type": "stream",
     "text": [
      "C:\\Users\\HP\\AppData\\Local\\Temp\\ipykernel_9160\\2410027968.py:1: SettingWithCopyWarning: \n",
      "A value is trying to be set on a copy of a slice from a DataFrame.\n",
      "Try using .loc[row_indexer,col_indexer] = value instead\n",
      "\n",
      "See the caveats in the documentation: https://pandas.pydata.org/pandas-docs/stable/user_guide/indexing.html#returning-a-view-versus-a-copy\n",
      "  data['cleaned_text']=data['combined'].apply(preprocess_text)\n"
     ]
    }
   ],
   "source": [
    "data['cleaned_text']=data['combined'].apply(preprocess_text)"
   ]
  },
  {
   "cell_type": "code",
   "execution_count": 13,
   "id": "c3eb1a32-c28a-4096-bccc-4fadf87476bf",
   "metadata": {},
   "outputs": [],
   "source": [
    "data.to_csv('filtered_data.csv', index=False)"
   ]
  },
  {
   "cell_type": "code",
   "execution_count": null,
   "id": "1c52d66a-663f-456d-a9c9-7cd2365c9796",
   "metadata": {},
   "outputs": [],
   "source": []
  }
 ],
 "metadata": {
  "kernelspec": {
   "display_name": "Python 3 (ipykernel)",
   "language": "python",
   "name": "python3"
  },
  "language_info": {
   "codemirror_mode": {
    "name": "ipython",
    "version": 3
   },
   "file_extension": ".py",
   "mimetype": "text/x-python",
   "name": "python",
   "nbconvert_exporter": "python",
   "pygments_lexer": "ipython3",
   "version": "3.13.3"
  }
 },
 "nbformat": 4,
 "nbformat_minor": 5
}
