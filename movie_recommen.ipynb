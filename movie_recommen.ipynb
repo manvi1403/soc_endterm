{
 "cells": [
  {
   "cell_type": "code",
   "execution_count": 1,
   "id": "125b147d-dc16-4005-ae72-e35ae51b950f",
   "metadata": {},
   "outputs": [],
   "source": [
    "import numpy as np\n",
    "import pandas as pd\n",
    "import matplotlib.pyplot as plt\n",
    "from sklearn.feature_extraction.text import CountVectorizer\n",
    "from sklearn.metrics.pairwise import cosine_similarity\n",
    "from wordcloud import WordCloud\n",
    "import re\n",
    "import nltk\n",
    "from nltk.corpus import stopwords\n",
    "from nltk.tokenize import word_tokenize\n",
    "from sklearn.metrics.pairwise import linear_kernel"
   ]
  },
  {
   "cell_type": "code",
   "execution_count": 2,
   "id": "8c387668-dfcd-426e-b9f9-1ea46e7ea9f4",
   "metadata": {},
   "outputs": [
    {
     "data": {
      "text/plain": [
       "Index(['title', 'combined', 'popularity', 'release_date', 'director',\n",
       "       'cleaned_text'],\n",
       "      dtype='object')"
      ]
     },
     "execution_count": 2,
     "metadata": {},
     "output_type": "execute_result"
    }
   ],
   "source": [
    "data=pd.read_csv('filtered_data.csv')\n",
    "df=pd.read_csv('temp.csv')\n",
    "data.columns"
   ]
  },
  {
   "cell_type": "code",
   "execution_count": 3,
   "id": "38f7732e-edee-4d1d-81ab-008095cd8613",
   "metadata": {},
   "outputs": [],
   "source": [
    "vectorizer = CountVectorizer(analyzer='word', ngram_range=(1, 2), min_df=3)\n",
    "count_matrix = vectorizer.fit_transform(data['cleaned_text'])"
   ]
  },
  {
   "cell_type": "code",
   "execution_count": 4,
   "id": "a0d284ea-a8b6-4281-9fdd-cb2141b38dda",
   "metadata": {},
   "outputs": [],
   "source": [
    "\n",
    "cosine_sim = cosine_similarity(count_matrix)\n",
    "pd.DataFrame(cosine_sim).to_csv(\"cosine_similarity_matrix.csv\", index=False)"
   ]
  },
  {
   "cell_type": "code",
   "execution_count": 5,
   "id": "5ff6a153-0a37-43ad-ba4f-33e039681673",
   "metadata": {},
   "outputs": [],
   "source": [
    "from sklearn.feature_extraction.text import TfidfVectorizer\n",
    "\n",
    "# Vectorizer just for titles\n",
    "title_vectorizer = TfidfVectorizer(stop_words='english')\n",
    "title_tfidf_matrix = title_vectorizer.fit_transform(data['title'].fillna('').str.lower())"
   ]
  },
  {
   "cell_type": "code",
   "execution_count": 6,
   "id": "2da1f6ec-05a0-4bb6-808e-f4c2bfe330df",
   "metadata": {},
   "outputs": [],
   "source": [
    "def recommend_movies(movie_name, cosine__sim=cosine_sim, df=data, top_n=10, sort_by='popularity'):\n",
    "    movie_name = movie_name.strip().lower()\n",
    "    idx = df[df['title'].str.lower() == movie_name].index\n",
    "    if len(idx) == 0:\n",
    "        print(f\"'{movie_name}' not found in the dataset — showing closest matches by title similarity.\")\n",
    "        input_title_vec = title_vectorizer.transform([movie_name])\n",
    "        sim_scores = list(enumerate(cosine_similarity(input_title_vec, title_tfidf_matrix)[0]))\n",
    "        sim_scores = sorted(sim_scores, key=lambda x: x[1], reverse=True)\n",
    "        sim_scores = sim_scores[:top_n]\n",
    "        movie_indices = [i[0] for i in sim_scores]\n",
    "        recommended = df.iloc[movie_indices]\n",
    "    else:\n",
    "        idx = idx[0]\n",
    "        sim_scores = list(enumerate(cosine__sim[idx]))\n",
    "        sim_scores = sorted(sim_scores, key=lambda x: x[1], reverse=True)\n",
    "        sim_scores = sim_scores[1:top_n+1] \n",
    "        movie_indices = [i[0] for i in sim_scores]\n",
    "        similar_movies = df.iloc[movie_indices]\n",
    "        if sort_by in similar_movies.columns:\n",
    "            similar_movies = similar_movies.sort_values(by=sort_by, ascending=False)\n",
    "        searched_movie = df.iloc[[idx]]\n",
    "        recommended = pd.concat([searched_movie, similar_movies])\n",
    "    return recommended[['title', 'director','release_date']]\n"
   ]
  },
  {
   "cell_type": "code",
   "execution_count": 7,
   "id": "380b1843-9368-4728-9a6f-0eeb12167993",
   "metadata": {},
   "outputs": [
    {
     "data": {
      "application/vnd.jupyter.widget-view+json": {
       "model_id": "6bfd1920e33c489daa9db37212f1f984",
       "version_major": 2,
       "version_minor": 0
      },
      "text/plain": [
       "Text(value='', description='Manual input:', placeholder='Type a movie title')"
      ]
     },
     "metadata": {},
     "output_type": "display_data"
    },
    {
     "data": {
      "application/vnd.jupyter.widget-view+json": {
       "model_id": "4e85cd1b56aa42e98825a73a85468061",
       "version_major": 2,
       "version_minor": 0
      },
      "text/plain": [
       "Dropdown(description='Pick a title:', index=1945, options=(\"'night, Mother\", '...And God Created Woman', '...A…"
      ]
     },
     "metadata": {},
     "output_type": "display_data"
    },
    {
     "data": {
      "application/vnd.jupyter.widget-view+json": {
       "model_id": "044ee837c2574ec6bea561d26edab2d4",
       "version_major": 2,
       "version_minor": 0
      },
      "text/plain": [
       "Output()"
      ]
     },
     "metadata": {},
     "output_type": "display_data"
    }
   ],
   "source": [
    "import ipywidgets as widgets\n",
    "from IPython.display import display, clear_output\n",
    "movie_titles = sorted(df['title'].dropna().unique())\n",
    "manual_input = widgets.Text(\n",
    "    value='',\n",
    "    description='Manual input:',\n",
    "    placeholder='Type a movie title'\n",
    ")\n",
    "dropdown_input = widgets.Dropdown(\n",
    "    options=movie_titles,\n",
    "    description='Pick a title:',\n",
    "    value='Jumanji' \n",
    ")\n",
    "recommendation_list = widgets.Output()\n",
    "def update_recommendations(change):\n",
    "    with recommendation_list:\n",
    "        clear_output()\n",
    "        title = manual_input.value.strip()\n",
    "        if title:\n",
    "            display(recommend_movies(title))\n",
    "        else: \n",
    "            display(recommend_movies(dropdown_input.value))\n",
    "manual_input.observe(update_recommendations, names='value')\n",
    "dropdown_input.observe(update_recommendations, names='value')\n",
    "display(manual_input, dropdown_input, recommendation_list)\n"
   ]
  },
  {
   "cell_type": "code",
   "execution_count": null,
   "id": "27c7483c-d6b4-4f16-a978-9399db142001",
   "metadata": {},
   "outputs": [],
   "source": []
  }
 ],
 "metadata": {
  "kernelspec": {
   "display_name": "Python 3 (ipykernel)",
   "language": "python",
   "name": "python3"
  },
  "language_info": {
   "codemirror_mode": {
    "name": "ipython",
    "version": 3
   },
   "file_extension": ".py",
   "mimetype": "text/x-python",
   "name": "python",
   "nbconvert_exporter": "python",
   "pygments_lexer": "ipython3",
   "version": "3.13.3"
  }
 },
 "nbformat": 4,
 "nbformat_minor": 5
}
