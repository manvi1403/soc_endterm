{
 "cells": [
  {
   "cell_type": "code",
   "execution_count": 1,
   "id": "2fc9275a-a65b-4225-b366-15f553d5e1cf",
   "metadata": {},
   "outputs": [
    {
     "name": "stderr",
     "output_type": "stream",
     "text": [
      "\n",
      "[notice] A new release of pip is available: 25.0.1 -> 25.1.1\n",
      "[notice] To update, run: python.exe -m pip install --upgrade pip\n"
     ]
    },
    {
     "name": "stdout",
     "output_type": "stream",
     "text": [
      "Requirement already satisfied: pandas in c:\\users\\hp\\appdata\\local\\programs\\python\\python313\\lib\\site-packages (2.2.3)\n",
      "Requirement already satisfied: numpy>=1.26.0 in c:\\users\\hp\\appdata\\local\\programs\\python\\python313\\lib\\site-packages (from pandas) (2.2.6)\n",
      "Requirement already satisfied: python-dateutil>=2.8.2 in c:\\users\\hp\\appdata\\local\\programs\\python\\python313\\lib\\site-packages (from pandas) (2.9.0.post0)\n",
      "Requirement already satisfied: pytz>=2020.1 in c:\\users\\hp\\appdata\\local\\programs\\python\\python313\\lib\\site-packages (from pandas) (2025.2)\n",
      "Requirement already satisfied: tzdata>=2022.7 in c:\\users\\hp\\appdata\\local\\programs\\python\\python313\\lib\\site-packages (from pandas) (2025.2)\n",
      "Requirement already satisfied: six>=1.5 in c:\\users\\hp\\appdata\\local\\programs\\python\\python313\\lib\\site-packages (from python-dateutil>=2.8.2->pandas) (1.17.0)\n",
      "Index(['adult', 'belongs_to_collection', 'budget', 'genres', 'homepage', 'id',\n",
      "       'imdb_id', 'original_language', 'original_title', 'overview',\n",
      "       'popularity', 'poster_path', 'production_companies',\n",
      "       'production_countries', 'release_date', 'revenue', 'runtime',\n",
      "       'spoken_languages', 'status', 'tagline', 'title', 'video',\n",
      "       'vote_average', 'vote_count', 'cast', 'crew', 'keywords'],\n",
      "      dtype='object')\n",
      "(46628, 27)\n"
     ]
    }
   ],
   "source": [
    "!pip install pandas\n",
    "import pandas as pd\n",
    "df1=pd.read_csv(\"credits.csv\", dtype= {'id' : str})\n",
    "df2=pd.read_csv(\"keywords.csv\", dtype= {'id' : str})\n",
    "df3=pd.read_csv(\"movies_metadata.csv\", dtype= {'id' : str}, low_memory=False)\n",
    "df4=pd.read_csv(\"links.csv\", dtype= {'tmdbId' : str})\n",
    "merge1=df1.merge(df2, how='inner')\n",
    "master_dataset=df3.merge(merge1, how='inner')\n",
    "print(master_dataset.columns)\n",
    "df4.rename(columns={'tmdbId': 'id'}, inplace=True)\n",
    "master_dataset['id'] = master_dataset['id'].str.strip()\n",
    "df4['id'] = df4['id'].str.strip()\n",
    "final_dataset = master_dataset[master_dataset['id'].isin(df4['id'])]\n",
    "print(final_dataset.shape)\n",
    "final_dataset.to_csv('master_dataset.csv', index=False)"
   ]
  },
  {
   "cell_type": "raw",
   "id": "f351acdc-8a21-4751-ad06-55b65d8e6e7a",
   "metadata": {},
   "source": []
  },
  {
   "cell_type": "code",
   "execution_count": null,
   "id": "74f1f477-eabf-405f-8f5b-0e84b50ff195",
   "metadata": {},
   "outputs": [],
   "source": []
  },
  {
   "cell_type": "code",
   "execution_count": null,
   "id": "b0028a03-a707-43b6-bfde-d21388e8e619",
   "metadata": {},
   "outputs": [],
   "source": []
  }
 ],
 "metadata": {
  "kernelspec": {
   "display_name": "Python 3 (ipykernel)",
   "language": "python",
   "name": "python3"
  },
  "language_info": {
   "codemirror_mode": {
    "name": "ipython",
    "version": 3
   },
   "file_extension": ".py",
   "mimetype": "text/x-python",
   "name": "python",
   "nbconvert_exporter": "python",
   "pygments_lexer": "ipython3",
   "version": "3.13.3"
  }
 },
 "nbformat": 4,
 "nbformat_minor": 5
}
